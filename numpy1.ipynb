{
  "cells": [
    {
      "cell_type": "code",
      "execution_count": 2,
      "id": "c119880c-f3c7-422f-b8bb-4145e965afc5",
      "metadata": {
        "id": "c119880c-f3c7-422f-b8bb-4145e965afc5"
      },
      "outputs": [],
      "source": [
        "import numpy as np"
      ]
    },
    {
      "cell_type": "markdown",
      "id": "48ddc5a7-d6b1-4205-83ca-4b861177db93",
      "metadata": {
        "id": "48ddc5a7-d6b1-4205-83ca-4b861177db93"
      },
      "source": [
        "## np.array()\n",
        "is a function is used to create or convert a list into an array"
      ]
    },
    {
      "cell_type": "code",
      "execution_count": null,
      "id": "2d32dbcf-6c8d-42ba-b457-51cb59377b2d",
      "metadata": {
        "id": "2d32dbcf-6c8d-42ba-b457-51cb59377b2d",
        "outputId": "b3c356c1-715a-4026-d45b-ab9ceefdb372"
      },
      "outputs": [
        {
          "name": "stdout",
          "output_type": "stream",
          "text": [
            "[1 2 3 4 5]\n",
            "<class 'numpy.ndarray'>\n"
          ]
        }
      ],
      "source": [
        "arr=np.array([1,2,3,4,5])\n",
        "print(arr)\n",
        "print(type(arr)) #ndarray or also called as n-dimensional array"
      ]
    },
    {
      "cell_type": "code",
      "execution_count": null,
      "id": "d25bece7-c929-4bb5-a66c-8bda53d50ff6",
      "metadata": {
        "id": "d25bece7-c929-4bb5-a66c-8bda53d50ff6"
      },
      "outputs": [],
      "source": [
        "lst=list(range(1000000))\n",
        "arr=np.array(lst)"
      ]
    },
    {
      "cell_type": "code",
      "execution_count": null,
      "id": "e8fb940c-f34d-48f3-b32b-6aeb23ffffa5",
      "metadata": {
        "id": "e8fb940c-f34d-48f3-b32b-6aeb23ffffa5",
        "outputId": "7c85bfab-1391-47ad-e4ad-7b6e7bf8bbb2"
      },
      "outputs": [
        {
          "name": "stdout",
          "output_type": "stream",
          "text": [
            "CPU times: total: 78.1 ms\n",
            "Wall time: 82.6 ms\n"
          ]
        }
      ],
      "source": [
        "%%time\n",
        "sq_lst=[num**2 for num in lst]"
      ]
    },
    {
      "cell_type": "code",
      "execution_count": null,
      "id": "52624e2d-390a-4527-b776-12e34aa4dccb",
      "metadata": {
        "id": "52624e2d-390a-4527-b776-12e34aa4dccb",
        "outputId": "d99362f6-6cf9-4602-e292-e7ba7524f68e"
      },
      "outputs": [
        {
          "name": "stdout",
          "output_type": "stream",
          "text": [
            "CPU times: total: 0 ns\n",
            "Wall time: 1 ms\n"
          ]
        }
      ],
      "source": [
        "%%time\n",
        "sq_arr = arr**2"
      ]
    },
    {
      "cell_type": "markdown",
      "id": "3bbf4991-44e6-4b14-96a3-ad62c66b1dea",
      "metadata": {
        "id": "3bbf4991-44e6-4b14-96a3-ad62c66b1dea"
      },
      "source": [
        "-------------------------------------------------  \n",
        "**array.dtype**   \n",
        "used to give type of array  \n",
        "**arr.ndim**  \n",
        "used to give the dimensions of the array  \n"
      ]
    },
    {
      "cell_type": "code",
      "execution_count": null,
      "id": "15f099aa-c448-416e-b174-1165532c6f9d",
      "metadata": {
        "id": "15f099aa-c448-416e-b174-1165532c6f9d",
        "outputId": "84f1fbd6-09b5-42a3-ff21-65a93addc4cb"
      },
      "outputs": [
        {
          "name": "stdout",
          "output_type": "stream",
          "text": [
            "[1 2 3 4 5]\n",
            "int32\n",
            "<class 'numpy.ndarray'>\n",
            "1\n"
          ]
        }
      ],
      "source": [
        "arr=np.array([1,2,3,4,5])\n",
        "print(arr)\n",
        "print(arr.dtype)\n",
        "print(type(arr))\n",
        "pirnt(arr.ndim)"
      ]
    },
    {
      "cell_type": "markdown",
      "id": "1a714ad7-9f0d-4221-b689-3f02dade3e68",
      "metadata": {
        "id": "1a714ad7-9f0d-4221-b689-3f02dade3e68"
      },
      "source": [
        "---------------------------------\n",
        "**arr.shape** give the shape of the array"
      ]
    },
    {
      "cell_type": "code",
      "execution_count": null,
      "id": "fb82a557-20fd-4de9-876a-a29f14c7725b",
      "metadata": {
        "id": "fb82a557-20fd-4de9-876a-a29f14c7725b",
        "outputId": "9e9e03e3-7967-43c7-819d-d2c577ef58b3"
      },
      "outputs": [
        {
          "name": "stdout",
          "output_type": "stream",
          "text": [
            "(5,)\n",
            "<class 'tuple'>\n"
          ]
        }
      ],
      "source": [
        "print(arr.shape)\n",
        "print(type(arr.shape))"
      ]
    },
    {
      "cell_type": "code",
      "execution_count": null,
      "id": "a9d734ac-a5a5-4a42-920f-5eb973cde935",
      "metadata": {
        "id": "a9d734ac-a5a5-4a42-920f-5eb973cde935",
        "outputId": "4a3aefb3-caed-4b1e-83ed-4a99ad7923fd"
      },
      "outputs": [
        {
          "name": "stdout",
          "output_type": "stream",
          "text": [
            "[[ 1  2  3]\n",
            " [ 4  5  6]\n",
            " [ 7  8  9]\n",
            " [10 11 12]]\n",
            "int32\n"
          ]
        }
      ],
      "source": [
        "arr=np.array([[1,2,3],[4,5,6],[7,8,9],[10,11,12]])\n",
        "print(arr)\n",
        "print(arr.dtype)"
      ]
    },
    {
      "cell_type": "code",
      "execution_count": null,
      "id": "3b00b738-5f88-486a-abed-3bcc4f376b64",
      "metadata": {
        "id": "3b00b738-5f88-486a-abed-3bcc4f376b64",
        "outputId": "42119d39-1479-48ab-d2b7-8d62073e9afc"
      },
      "outputs": [
        {
          "name": "stdout",
          "output_type": "stream",
          "text": [
            "<class 'numpy.ndarray'>\n",
            "2\n",
            "[10 11 12]\n",
            "11\n",
            "(4, 3)\n"
          ]
        }
      ],
      "source": [
        "print(type(arr))\n",
        "print(arr.ndim)\n",
        "print(arr[3])\n",
        "print(arr[3][1])\n",
        "print(arr.shape)"
      ]
    },
    {
      "cell_type": "markdown",
      "id": "eb104bf7-8cbc-470d-8fd7-2532f2b4f1f5",
      "metadata": {
        "id": "eb104bf7-8cbc-470d-8fd7-2532f2b4f1f5"
      },
      "source": [
        "**arange()** range function in numpy world  \n",
        "main difference is it can take float as its step value"
      ]
    },
    {
      "cell_type": "code",
      "execution_count": null,
      "id": "6bc07610-7a9a-423b-9623-9cecd858d712",
      "metadata": {
        "id": "6bc07610-7a9a-423b-9623-9cecd858d712",
        "outputId": "82ff117b-385c-4b91-8bca-e4b4c5810832"
      },
      "outputs": [
        {
          "name": "stdout",
          "output_type": "stream",
          "text": [
            "[0 1 2 3 4]\n"
          ]
        }
      ],
      "source": [
        "arr = np.arange(5)\n",
        "print(arr)"
      ]
    },
    {
      "cell_type": "code",
      "execution_count": null,
      "id": "1242002a-bc83-433f-83c4-106ebed53a91",
      "metadata": {
        "id": "1242002a-bc83-433f-83c4-106ebed53a91",
        "outputId": "3955a309-8519-4841-aedb-f1af839155db"
      },
      "outputs": [
        {
          "name": "stdout",
          "output_type": "stream",
          "text": [
            "[1.  1.5 2.  2.5 3.  3.5 4.  4.5]\n"
          ]
        }
      ],
      "source": [
        "arr=np.arange(1,5,0.5)\n",
        "print(arr)"
      ]
    },
    {
      "cell_type": "code",
      "execution_count": null,
      "id": "20ae8956-0332-4558-8695-89201417edb7",
      "metadata": {
        "id": "20ae8956-0332-4558-8695-89201417edb7",
        "outputId": "967b759b-387a-4363-d806-2511dc84013f"
      },
      "outputs": [
        {
          "name": "stdout",
          "output_type": "stream",
          "text": [
            "[0 1 2 3 4]\n",
            "[1 2]\n",
            "[123   0   0   3   4]\n",
            "-------------------------\n",
            "[0, 1, 2, 3, 4]\n",
            "[1, 2]\n"
          ]
        },
        {
          "ename": "TypeError",
          "evalue": "can only assign an iterable",
          "output_type": "error",
          "traceback": [
            "\u001b[1;31m---------------------------------------------------------------------------\u001b[0m",
            "\u001b[1;31mTypeError\u001b[0m                                 Traceback (most recent call last)",
            "Cell \u001b[1;32mIn[28], line 14\u001b[0m\n\u001b[0;32m     12\u001b[0m \u001b[38;5;28mprint\u001b[39m(lst[\u001b[38;5;241m1\u001b[39m:\u001b[38;5;241m3\u001b[39m])\n\u001b[0;32m     13\u001b[0m lst[\u001b[38;5;241m0\u001b[39m]\u001b[38;5;241m=\u001b[39m\u001b[38;5;241m123\u001b[39m\n\u001b[1;32m---> 14\u001b[0m lst[\u001b[38;5;241m1\u001b[39m:\u001b[38;5;241m3\u001b[39m]\u001b[38;5;241m=\u001b[39m\u001b[38;5;241m0\u001b[39m\n\u001b[0;32m     15\u001b[0m \u001b[38;5;28mprint\u001b[39m(lst)\n",
            "\u001b[1;31mTypeError\u001b[0m: can only assign an iterable"
          ]
        }
      ],
      "source": [
        "arr=np.arange(5)\n",
        "print(arr)\n",
        "print(arr[1:3])\n",
        "arr[0]=123\n",
        "arr[1:3]=0\n",
        "print(arr)\n",
        "\n",
        "print(\"-\"*25)\n",
        "\n",
        "lst=list(range(5))\n",
        "print(lst)\n",
        "print(lst[1:3])\n",
        "lst[0]=123\n",
        "lst[1:3]=0\n",
        "print(lst)"
      ]
    },
    {
      "cell_type": "markdown",
      "id": "39ad192c-f665-405a-a7fb-9e3f5a04af0a",
      "metadata": {
        "id": "39ad192c-f665-405a-a7fb-9e3f5a04af0a"
      },
      "source": [
        "**Type Conversion**"
      ]
    },
    {
      "cell_type": "code",
      "execution_count": null,
      "id": "3d49ed4f-c7c0-4d20-916a-f79f9787e63c",
      "metadata": {
        "id": "3d49ed4f-c7c0-4d20-916a-f79f9787e63c",
        "outputId": "ce163bc7-76d9-4818-ee28-06496693340c"
      },
      "outputs": [
        {
          "name": "stdout",
          "output_type": "stream",
          "text": [
            "[1 2 3 4 5] int32\n"
          ]
        }
      ],
      "source": [
        "arr=np.array([1,2,3,4,5])\n",
        "print(arr,arr.dtype)"
      ]
    },
    {
      "cell_type": "code",
      "execution_count": null,
      "id": "8824d3f0-d01d-44ee-8dae-ddb19a2cccb7",
      "metadata": {
        "id": "8824d3f0-d01d-44ee-8dae-ddb19a2cccb7",
        "outputId": "21dbbf6a-f4fb-4c3f-d0ef-e3bb855b0dbb"
      },
      "outputs": [
        {
          "name": "stdout",
          "output_type": "stream",
          "text": [
            "[1.    2.    3.    4.    5.123] float64\n"
          ]
        }
      ],
      "source": [
        "arr=np.array([1,2,3,4,5.123])\n",
        "print(arr,arr.dtype)"
      ]
    },
    {
      "cell_type": "code",
      "execution_count": null,
      "id": "87d8b65f-82f4-412b-a6d0-4d180d744973",
      "metadata": {
        "id": "87d8b65f-82f4-412b-a6d0-4d180d744973",
        "outputId": "d98c8ade-572b-4c79-b50e-10062d92964f"
      },
      "outputs": [
        {
          "name": "stdout",
          "output_type": "stream",
          "text": [
            "['1' 'Ronaldo' '3' '4' '5.123'] <U32\n"
          ]
        }
      ],
      "source": [
        "arr=np.array([1,\"Ronaldo\",3,4,5.123])\n",
        "print(arr,arr.dtype)"
      ]
    },
    {
      "cell_type": "markdown",
      "id": "8b29b148-5009-48cc-8204-83c154affe0d",
      "metadata": {
        "id": "8b29b148-5009-48cc-8204-83c154affe0d"
      },
      "source": [
        "**astype**"
      ]
    },
    {
      "cell_type": "code",
      "execution_count": null,
      "id": "22b6254a-2c56-444c-9312-9e05031e40b0",
      "metadata": {
        "id": "22b6254a-2c56-444c-9312-9e05031e40b0",
        "outputId": "90ad372e-50ff-41cf-8b52-657d39a09de5"
      },
      "outputs": [
        {
          "name": "stdout",
          "output_type": "stream",
          "text": [
            "[1. 2. 3. 4. 5.] float64\n",
            "[1 2 3 4 5]\n"
          ]
        }
      ],
      "source": [
        "arr=np.array([1,2,3,4,5],dtype=float)\n",
        "print(arr,arr.dtype)\n",
        "print(arr.astype(int))"
      ]
    },
    {
      "cell_type": "code",
      "execution_count": 3,
      "id": "b3a72117-7507-4a4a-8fd0-b5961b7499d0",
      "metadata": {
        "colab": {
          "base_uri": "https://localhost:8080/"
        },
        "id": "b3a72117-7507-4a4a-8fd0-b5961b7499d0",
        "outputId": "a615ba47-5e13-4a7e-f058-815dd2e97f01"
      },
      "outputs": [
        {
          "output_type": "stream",
          "name": "stdout",
          "text": [
            "[[ 1  2  3]\n",
            " [ 4  5  6]\n",
            " [ 7  8  9]\n",
            " [10 11 12]]\n",
            "8\n"
          ]
        }
      ],
      "source": [
        "arr=np.array([[1,2,3],[4,5,6],[7,8,9],[10,11,12]])\n",
        "print(arr)\n",
        "print(arr[2][1])"
      ]
    },
    {
      "cell_type": "code",
      "source": [
        "arr=np.arange(10)\n",
        "print(arr)\n",
        "print(arr[2:7:2])\n",
        "print(arr[2:7:-1])\n",
        "print(arr[-2:-7:-1])"
      ],
      "metadata": {
        "colab": {
          "base_uri": "https://localhost:8080/"
        },
        "id": "tG_0veW2VUKd",
        "outputId": "f57508f0-f485-4ed3-bd5a-8c497910138a"
      },
      "id": "tG_0veW2VUKd",
      "execution_count": 4,
      "outputs": [
        {
          "output_type": "stream",
          "name": "stdout",
          "text": [
            "[0 1 2 3 4 5 6 7 8 9]\n",
            "[2 4 6]\n",
            "[]\n",
            "[8 7 6 5 4]\n"
          ]
        }
      ]
    },
    {
      "cell_type": "code",
      "source": [
        "a=np.array([0,1,2,3,4,5])\n",
        "print(a)\n",
        "print(a[4:])\n",
        "a[4:]=10\n",
        "print(a)"
      ],
      "metadata": {
        "colab": {
          "base_uri": "https://localhost:8080/"
        },
        "id": "xZs6twgqVmSM",
        "outputId": "40f3e99e-c210-449f-cc15-b2e3d2c49de5"
      },
      "id": "xZs6twgqVmSM",
      "execution_count": 5,
      "outputs": [
        {
          "output_type": "stream",
          "name": "stdout",
          "text": [
            "[0 1 2 3 4 5]\n",
            "[4 5]\n",
            "[ 0  1  2  3 10 10]\n"
          ]
        }
      ]
    },
    {
      "cell_type": "markdown",
      "source": [
        "### Fancy indexing (Masking)"
      ],
      "metadata": {
        "id": "pThhqdYZV8TV"
      },
      "id": "pThhqdYZV8TV"
    },
    {
      "cell_type": "code",
      "source": [
        "m1=np.arange(1,11)\n",
        "print(m1)"
      ],
      "metadata": {
        "colab": {
          "base_uri": "https://localhost:8080/"
        },
        "id": "NULBbTqYV0Jk",
        "outputId": "ea3e1be9-c7b6-470e-f39e-d1c96fd49ffe"
      },
      "id": "NULBbTqYV0Jk",
      "execution_count": 6,
      "outputs": [
        {
          "output_type": "stream",
          "name": "stdout",
          "text": [
            "[ 1  2  3  4  5  6  7  8  9 10]\n"
          ]
        }
      ]
    },
    {
      "cell_type": "code",
      "source": [
        "print(m1<6) #Here m1<6 is the mask"
      ],
      "metadata": {
        "colab": {
          "base_uri": "https://localhost:8080/"
        },
        "id": "foQ28hZ2WFIk",
        "outputId": "eb75be12-6a36-4190-e7d0-76fa3dc40d25"
      },
      "id": "foQ28hZ2WFIk",
      "execution_count": 7,
      "outputs": [
        {
          "output_type": "stream",
          "name": "stdout",
          "text": [
            "[ True  True  True  True  True False False False False False]\n"
          ]
        }
      ]
    },
    {
      "cell_type": "code",
      "source": [
        "print(m1[m1<6]) #fancy indexing(Masking)"
      ],
      "metadata": {
        "colab": {
          "base_uri": "https://localhost:8080/"
        },
        "id": "96E2LW7JWHRs",
        "outputId": "d09556bf-e261-4ef3-c834-3e40453c54ae"
      },
      "id": "96E2LW7JWHRs",
      "execution_count": 8,
      "outputs": [
        {
          "output_type": "stream",
          "name": "stdout",
          "text": [
            "[1 2 3 4 5]\n"
          ]
        }
      ]
    },
    {
      "cell_type": "code",
      "source": [
        "#Use masking to get only even numbers from m1\n",
        "print(m1%2==0)\n",
        "print(m1[m1%2==0])"
      ],
      "metadata": {
        "colab": {
          "base_uri": "https://localhost:8080/"
        },
        "id": "1x8uYJyzWKdV",
        "outputId": "97eaa492-b4de-46ed-e80a-3f2ad3752242"
      },
      "id": "1x8uYJyzWKdV",
      "execution_count": 9,
      "outputs": [
        {
          "output_type": "stream",
          "name": "stdout",
          "text": [
            "[False  True False  True False  True False  True False  True]\n",
            "[ 2  4  6  8 10]\n"
          ]
        }
      ]
    },
    {
      "cell_type": "code",
      "source": [
        "a=np.array([1,2,3,4,5])\n",
        "b=np.array([8,7,6])\n",
        "print(a)\n",
        "print(b)\n",
        "print(a[2:])\n",
        "print(b[::-1])\n",
        "a[2:]=b[::-1]\n",
        "print(a)"
      ],
      "metadata": {
        "colab": {
          "base_uri": "https://localhost:8080/"
        },
        "id": "95umOSpSWwom",
        "outputId": "98c5f50a-30d6-4f95-8753-cebca3fd84c2"
      },
      "id": "95umOSpSWwom",
      "execution_count": 10,
      "outputs": [
        {
          "output_type": "stream",
          "name": "stdout",
          "text": [
            "[1 2 3 4 5]\n",
            "[8 7 6]\n",
            "[3 4 5]\n",
            "[6 7 8]\n",
            "[1 2 6 7 8]\n"
          ]
        }
      ]
    },
    {
      "cell_type": "markdown",
      "source": [
        "### Using Net Promoter Score dataset"
      ],
      "metadata": {
        "id": "DI7pHnN2XJut"
      },
      "id": "DI7pHnN2XJut"
    },
    {
      "cell_type": "code",
      "source": [
        "# https://drive.google.com/uc?id=1c0ClC8SrPwJq5rrkyMKyPn80nyHcFikK\n",
        "!gdown 1c0ClC8SrPwJq5rrkyMKyPn80nyHcFikK"
      ],
      "metadata": {
        "colab": {
          "base_uri": "https://localhost:8080/"
        },
        "id": "AF0yXZtcXAJ1",
        "outputId": "ef8fcd86-abc1-4ec1-8cd2-0c9f10482720"
      },
      "id": "AF0yXZtcXAJ1",
      "execution_count": 12,
      "outputs": [
        {
          "output_type": "stream",
          "name": "stdout",
          "text": [
            "Downloading...\n",
            "From: https://drive.google.com/uc?id=1c0ClC8SrPwJq5rrkyMKyPn80nyHcFikK\n",
            "To: /content/survey.txt\n",
            "\r  0% 0.00/2.55k [00:00<?, ?B/s]\r100% 2.55k/2.55k [00:00<00:00, 7.81MB/s]\n"
          ]
        }
      ]
    },
    {
      "cell_type": "code",
      "source": [
        "score=np.loadtxt(\"/content/survey.txt\",dtype=int)\n",
        "score"
      ],
      "metadata": {
        "colab": {
          "base_uri": "https://localhost:8080/"
        },
        "id": "-KzwCcwCXl5F",
        "outputId": "067471ad-d8f1-49f8-b735-87c1c276b90c"
      },
      "id": "-KzwCcwCXl5F",
      "execution_count": 13,
      "outputs": [
        {
          "output_type": "execute_result",
          "data": {
            "text/plain": [
              "array([ 7, 10,  5, ...,  5,  9, 10])"
            ]
          },
          "metadata": {},
          "execution_count": 13
        }
      ]
    },
    {
      "cell_type": "code",
      "source": [
        "promoters_mask=score>=9\n",
        "promoters=score[promoters_mask]\n",
        "num_promoters = promoters.shape[0]\n",
        "per_promoters=num_promoters/score.shape[0]*100\n",
        "per_promoters=round(per_promoters,2)\n",
        "per_promoters"
      ],
      "metadata": {
        "colab": {
          "base_uri": "https://localhost:8080/"
        },
        "id": "TPhXq34xYAE9",
        "outputId": "f3221239-502e-448d-e43f-30aea0fbbfe7"
      },
      "id": "TPhXq34xYAE9",
      "execution_count": 16,
      "outputs": [
        {
          "output_type": "execute_result",
          "data": {
            "text/plain": [
              "52.19"
            ]
          },
          "metadata": {},
          "execution_count": 16
        }
      ]
    },
    {
      "cell_type": "code",
      "source": [
        "detractors_mask=score<=6\n",
        "detractors=score[detractors_mask]\n",
        "num_detractors = detractors.shape[0]\n",
        "per_detractor=num_detractors/score.shape[0]*100\n",
        "per_detractor=round(per_detractor,2)\n",
        "per_detractor"
      ],
      "metadata": {
        "colab": {
          "base_uri": "https://localhost:8080/"
        },
        "id": "ZmuYGHeuYf3F",
        "outputId": "72198438-af7c-42f1-bbc4-4057f2b40313"
      },
      "id": "ZmuYGHeuYf3F",
      "execution_count": 19,
      "outputs": [
        {
          "output_type": "execute_result",
          "data": {
            "text/plain": [
              "28.45"
            ]
          },
          "metadata": {},
          "execution_count": 19
        }
      ]
    },
    {
      "cell_type": "code",
      "source": [
        "NPS=per_promoters-per_detractor\n",
        "print(np.round(NPS,1))"
      ],
      "metadata": {
        "colab": {
          "base_uri": "https://localhost:8080/"
        },
        "id": "7EjHk-5LZAsu",
        "outputId": "032ab913-3070-4485-bec6-182474c0b5c9"
      },
      "id": "7EjHk-5LZAsu",
      "execution_count": 21,
      "outputs": [
        {
          "output_type": "stream",
          "name": "stdout",
          "text": [
            "23.7\n"
          ]
        }
      ]
    },
    {
      "cell_type": "code",
      "source": [],
      "metadata": {
        "id": "XXs5tQ9lZP3t"
      },
      "id": "XXs5tQ9lZP3t",
      "execution_count": null,
      "outputs": []
    }
  ],
  "metadata": {
    "kernelspec": {
      "display_name": "Python [conda env:base] *",
      "language": "python",
      "name": "conda-base-py"
    },
    "language_info": {
      "codemirror_mode": {
        "name": "ipython",
        "version": 3
      },
      "file_extension": ".py",
      "mimetype": "text/x-python",
      "name": "python",
      "nbconvert_exporter": "python",
      "pygments_lexer": "ipython3",
      "version": "3.11.7"
    },
    "colab": {
      "provenance": []
    }
  },
  "nbformat": 4,
  "nbformat_minor": 5
}