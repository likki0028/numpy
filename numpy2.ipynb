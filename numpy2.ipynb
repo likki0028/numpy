{
  "nbformat": 4,
  "nbformat_minor": 0,
  "metadata": {
    "colab": {
      "provenance": []
    },
    "kernelspec": {
      "name": "python3",
      "display_name": "Python 3"
    },
    "language_info": {
      "name": "python"
    }
  },
  "cells": [
    {
      "cell_type": "code",
      "execution_count": 1,
      "metadata": {
        "id": "qjjN7JFPa19v"
      },
      "outputs": [],
      "source": [
        "import numpy as np"
      ]
    },
    {
      "cell_type": "code",
      "source": [
        "arr=np.arange(1,20)\n",
        "print(arr)"
      ],
      "metadata": {
        "colab": {
          "base_uri": "https://localhost:8080/"
        },
        "id": "f_alASlCa94e",
        "outputId": "8ee2fd7e-155d-411d-cd5f-682df725cce9"
      },
      "execution_count": 2,
      "outputs": [
        {
          "output_type": "stream",
          "name": "stdout",
          "text": [
            "[ 1  2  3  4  5  6  7  8  9 10 11 12 13 14 15 16 17 18 19]\n"
          ]
        }
      ]
    },
    {
      "cell_type": "markdown",
      "source": [
        "### 2d arrays\n"
      ],
      "metadata": {
        "id": "LKDSzU5WfmJV"
      }
    },
    {
      "cell_type": "code",
      "source": [
        "lst=[[1,2,3],[1,2,3]]\n",
        "print(lst)\n",
        "print(len(lst))\n",
        "arr=np.array(lst)\n",
        "print(arr)\n",
        "print(arr.shape)\n",
        "print(arr.size)"
      ],
      "metadata": {
        "colab": {
          "base_uri": "https://localhost:8080/"
        },
        "id": "QmcKSUL9fXqG",
        "outputId": "6fcdd80e-2fef-40ec-9177-1f252f7601cc"
      },
      "execution_count": 4,
      "outputs": [
        {
          "output_type": "stream",
          "name": "stdout",
          "text": [
            "[[1, 2, 3], [1, 2, 3]]\n",
            "2\n",
            "[[1 2 3]\n",
            " [1 2 3]]\n",
            "(2, 3)\n",
            "6\n"
          ]
        }
      ]
    },
    {
      "cell_type": "code",
      "source": [
        "arr=np.arange(12)\n",
        "print(arr)\n",
        "print(arr.size)\n",
        "print(arr.shape)\n",
        "print(len(arr))"
      ],
      "metadata": {
        "colab": {
          "base_uri": "https://localhost:8080/"
        },
        "id": "0ScMNCrwfbB-",
        "outputId": "0a95a296-8bbb-483a-e9db-01529c52f982"
      },
      "execution_count": 5,
      "outputs": [
        {
          "output_type": "stream",
          "name": "stdout",
          "text": [
            "[ 0  1  2  3  4  5  6  7  8  9 10 11]\n",
            "12\n",
            "(12,)\n",
            "12\n"
          ]
        }
      ]
    },
    {
      "cell_type": "code",
      "source": [
        "print(arr.reshape(3,4))\n",
        "print(\"-\"*25)\n",
        "print(arr.reshape(4,3))\n",
        "print(\"-\"*25)\n",
        "print(arr.reshape(6,2))\n",
        "print(\"-\"*25)\n",
        "print(arr.reshape(2,6))\n",
        "print(\"-\"*25)\n",
        "print(arr.reshape(12,1))\n"
      ],
      "metadata": {
        "colab": {
          "base_uri": "https://localhost:8080/"
        },
        "id": "qd8aFBxXf6sF",
        "outputId": "6f673101-01a8-48a7-95bb-3ad0072c28df"
      },
      "execution_count": 6,
      "outputs": [
        {
          "output_type": "stream",
          "name": "stdout",
          "text": [
            "[[ 0  1  2  3]\n",
            " [ 4  5  6  7]\n",
            " [ 8  9 10 11]]\n",
            "-------------------------\n",
            "[[ 0  1  2]\n",
            " [ 3  4  5]\n",
            " [ 6  7  8]\n",
            " [ 9 10 11]]\n",
            "-------------------------\n",
            "[[ 0  1]\n",
            " [ 2  3]\n",
            " [ 4  5]\n",
            " [ 6  7]\n",
            " [ 8  9]\n",
            " [10 11]]\n",
            "-------------------------\n",
            "[[ 0  1  2  3  4  5]\n",
            " [ 6  7  8  9 10 11]]\n",
            "-------------------------\n",
            "[[ 0]\n",
            " [ 1]\n",
            " [ 2]\n",
            " [ 3]\n",
            " [ 4]\n",
            " [ 5]\n",
            " [ 6]\n",
            " [ 7]\n",
            " [ 8]\n",
            " [ 9]\n",
            " [10]\n",
            " [11]]\n"
          ]
        }
      ]
    },
    {
      "cell_type": "code",
      "source": [
        "print(arr)\n",
        "print(arr.reshape(4,4))"
      ],
      "metadata": {
        "colab": {
          "base_uri": "https://localhost:8080/",
          "height": 176
        },
        "id": "gTMa4NuEg2Qf",
        "outputId": "10d4b624-8d04-4c32-c1f6-86ac0228ab26"
      },
      "execution_count": 7,
      "outputs": [
        {
          "output_type": "stream",
          "name": "stdout",
          "text": [
            "[ 0  1  2  3  4  5  6  7  8  9 10 11]\n"
          ]
        },
        {
          "output_type": "error",
          "ename": "ValueError",
          "evalue": "cannot reshape array of size 12 into shape (4,4)",
          "traceback": [
            "\u001b[0;31m---------------------------------------------------------------------------\u001b[0m",
            "\u001b[0;31mValueError\u001b[0m                                Traceback (most recent call last)",
            "\u001b[0;32m/tmp/ipython-input-2480309960.py\u001b[0m in \u001b[0;36m<cell line: 0>\u001b[0;34m()\u001b[0m\n\u001b[1;32m      1\u001b[0m \u001b[0mprint\u001b[0m\u001b[0;34m(\u001b[0m\u001b[0marr\u001b[0m\u001b[0;34m)\u001b[0m\u001b[0;34m\u001b[0m\u001b[0;34m\u001b[0m\u001b[0m\n\u001b[0;32m----> 2\u001b[0;31m \u001b[0mprint\u001b[0m\u001b[0;34m(\u001b[0m\u001b[0marr\u001b[0m\u001b[0;34m.\u001b[0m\u001b[0mreshape\u001b[0m\u001b[0;34m(\u001b[0m\u001b[0;36m4\u001b[0m\u001b[0;34m,\u001b[0m\u001b[0;36m4\u001b[0m\u001b[0;34m)\u001b[0m\u001b[0;34m)\u001b[0m\u001b[0;34m\u001b[0m\u001b[0;34m\u001b[0m\u001b[0m\n\u001b[0m",
            "\u001b[0;31mValueError\u001b[0m: cannot reshape array of size 12 into shape (4,4)"
          ]
        }
      ]
    },
    {
      "cell_type": "code",
      "source": [
        "print(arr)\n",
        "print(arr.reshape(3,2))"
      ],
      "metadata": {
        "colab": {
          "base_uri": "https://localhost:8080/",
          "height": 176
        },
        "id": "qYMjy2aFg7y2",
        "outputId": "7275cbc5-d99d-4778-d923-2eb059aa463a"
      },
      "execution_count": 8,
      "outputs": [
        {
          "output_type": "stream",
          "name": "stdout",
          "text": [
            "[ 0  1  2  3  4  5  6  7  8  9 10 11]\n"
          ]
        },
        {
          "output_type": "error",
          "ename": "ValueError",
          "evalue": "cannot reshape array of size 12 into shape (3,2)",
          "traceback": [
            "\u001b[0;31m---------------------------------------------------------------------------\u001b[0m",
            "\u001b[0;31mValueError\u001b[0m                                Traceback (most recent call last)",
            "\u001b[0;32m/tmp/ipython-input-3648368605.py\u001b[0m in \u001b[0;36m<cell line: 0>\u001b[0;34m()\u001b[0m\n\u001b[1;32m      1\u001b[0m \u001b[0mprint\u001b[0m\u001b[0;34m(\u001b[0m\u001b[0marr\u001b[0m\u001b[0;34m)\u001b[0m\u001b[0;34m\u001b[0m\u001b[0;34m\u001b[0m\u001b[0m\n\u001b[0;32m----> 2\u001b[0;31m \u001b[0mprint\u001b[0m\u001b[0;34m(\u001b[0m\u001b[0marr\u001b[0m\u001b[0;34m.\u001b[0m\u001b[0mreshape\u001b[0m\u001b[0;34m(\u001b[0m\u001b[0;36m3\u001b[0m\u001b[0;34m,\u001b[0m\u001b[0;36m2\u001b[0m\u001b[0;34m)\u001b[0m\u001b[0;34m)\u001b[0m\u001b[0;34m\u001b[0m\u001b[0;34m\u001b[0m\u001b[0m\n\u001b[0m",
            "\u001b[0;31mValueError\u001b[0m: cannot reshape array of size 12 into shape (3,2)"
          ]
        }
      ]
    },
    {
      "cell_type": "code",
      "source": [
        "print(arr)\n",
        "print(arr.shape)\n",
        "print(arr.reshape(3,-1))#-1 for unknown dimension\n",
        "print(\"-\"*25)\n",
        "print(arr.reshape(-1,4))#-1 for unknown dimension"
      ],
      "metadata": {
        "colab": {
          "base_uri": "https://localhost:8080/"
        },
        "id": "-bYL-6m3hPw9",
        "outputId": "14a73d44-b6bb-43e5-aff9-34ce677da79a"
      },
      "execution_count": 9,
      "outputs": [
        {
          "output_type": "stream",
          "name": "stdout",
          "text": [
            "[ 0  1  2  3  4  5  6  7  8  9 10 11]\n",
            "(12,)\n",
            "[[ 0  1  2  3]\n",
            " [ 4  5  6  7]\n",
            " [ 8  9 10 11]]\n",
            "-------------------------\n",
            "[[ 0  1  2  3]\n",
            " [ 4  5  6  7]\n",
            " [ 8  9 10 11]]\n"
          ]
        }
      ]
    },
    {
      "cell_type": "code",
      "source": [
        "print(arr)\n",
        "print(arr.shape)\n",
        "print(arr.reshape(3,2,-1))"
      ],
      "metadata": {
        "colab": {
          "base_uri": "https://localhost:8080/"
        },
        "id": "-SSQkwH4hkxP",
        "outputId": "bfe4b975-395b-42a1-adcd-df9303a677f1"
      },
      "execution_count": 10,
      "outputs": [
        {
          "output_type": "stream",
          "name": "stdout",
          "text": [
            "[ 0  1  2  3  4  5  6  7  8  9 10 11]\n",
            "(12,)\n",
            "[[[ 0  1]\n",
            "  [ 2  3]]\n",
            "\n",
            " [[ 4  5]\n",
            "  [ 6  7]]\n",
            "\n",
            " [[ 8  9]\n",
            "  [10 11]]]\n"
          ]
        }
      ]
    },
    {
      "cell_type": "code",
      "source": [
        "print(arr)\n",
        "print(arr.shape)\n",
        "print(arr.reshape(3,-1, -1))"
      ],
      "metadata": {
        "colab": {
          "base_uri": "https://localhost:8080/",
          "height": 211
        },
        "id": "GwtM6Y-rhxEl",
        "outputId": "90231051-9718-4385-e027-7786a0ec733f"
      },
      "execution_count": 11,
      "outputs": [
        {
          "output_type": "stream",
          "name": "stdout",
          "text": [
            "[ 0  1  2  3  4  5  6  7  8  9 10 11]\n",
            "(12,)\n"
          ]
        },
        {
          "output_type": "error",
          "ename": "ValueError",
          "evalue": "can only specify one unknown dimension",
          "traceback": [
            "\u001b[0;31m---------------------------------------------------------------------------\u001b[0m",
            "\u001b[0;31mValueError\u001b[0m                                Traceback (most recent call last)",
            "\u001b[0;32m/tmp/ipython-input-1036486650.py\u001b[0m in \u001b[0;36m<cell line: 0>\u001b[0;34m()\u001b[0m\n\u001b[1;32m      1\u001b[0m \u001b[0mprint\u001b[0m\u001b[0;34m(\u001b[0m\u001b[0marr\u001b[0m\u001b[0;34m)\u001b[0m\u001b[0;34m\u001b[0m\u001b[0;34m\u001b[0m\u001b[0m\n\u001b[1;32m      2\u001b[0m \u001b[0mprint\u001b[0m\u001b[0;34m(\u001b[0m\u001b[0marr\u001b[0m\u001b[0;34m.\u001b[0m\u001b[0mshape\u001b[0m\u001b[0;34m)\u001b[0m\u001b[0;34m\u001b[0m\u001b[0;34m\u001b[0m\u001b[0m\n\u001b[0;32m----> 3\u001b[0;31m \u001b[0mprint\u001b[0m\u001b[0;34m(\u001b[0m\u001b[0marr\u001b[0m\u001b[0;34m.\u001b[0m\u001b[0mreshape\u001b[0m\u001b[0;34m(\u001b[0m\u001b[0;36m3\u001b[0m\u001b[0;34m,\u001b[0m\u001b[0;34m-\u001b[0m\u001b[0;36m1\u001b[0m\u001b[0;34m,\u001b[0m \u001b[0;34m-\u001b[0m\u001b[0;36m1\u001b[0m\u001b[0;34m)\u001b[0m\u001b[0;34m)\u001b[0m\u001b[0;34m\u001b[0m\u001b[0;34m\u001b[0m\u001b[0m\n\u001b[0m",
            "\u001b[0;31mValueError\u001b[0m: can only specify one unknown dimension"
          ]
        }
      ]
    },
    {
      "cell_type": "code",
      "source": [
        "print(arr)\n",
        "print(arr.shape)\n",
        "print(arr.reshape(5,-1))"
      ],
      "metadata": {
        "colab": {
          "base_uri": "https://localhost:8080/",
          "height": 211
        },
        "id": "5FGSxzE3h7u1",
        "outputId": "01f3bed8-dce1-4625-d5cc-dc8afe4c5f73"
      },
      "execution_count": 12,
      "outputs": [
        {
          "output_type": "stream",
          "name": "stdout",
          "text": [
            "[ 0  1  2  3  4  5  6  7  8  9 10 11]\n",
            "(12,)\n"
          ]
        },
        {
          "output_type": "error",
          "ename": "ValueError",
          "evalue": "cannot reshape array of size 12 into shape (5,newaxis)",
          "traceback": [
            "\u001b[0;31m---------------------------------------------------------------------------\u001b[0m",
            "\u001b[0;31mValueError\u001b[0m                                Traceback (most recent call last)",
            "\u001b[0;32m/tmp/ipython-input-1568757205.py\u001b[0m in \u001b[0;36m<cell line: 0>\u001b[0;34m()\u001b[0m\n\u001b[1;32m      1\u001b[0m \u001b[0mprint\u001b[0m\u001b[0;34m(\u001b[0m\u001b[0marr\u001b[0m\u001b[0;34m)\u001b[0m\u001b[0;34m\u001b[0m\u001b[0;34m\u001b[0m\u001b[0m\n\u001b[1;32m      2\u001b[0m \u001b[0mprint\u001b[0m\u001b[0;34m(\u001b[0m\u001b[0marr\u001b[0m\u001b[0;34m.\u001b[0m\u001b[0mshape\u001b[0m\u001b[0;34m)\u001b[0m\u001b[0;34m\u001b[0m\u001b[0;34m\u001b[0m\u001b[0m\n\u001b[0;32m----> 3\u001b[0;31m \u001b[0mprint\u001b[0m\u001b[0;34m(\u001b[0m\u001b[0marr\u001b[0m\u001b[0;34m.\u001b[0m\u001b[0mreshape\u001b[0m\u001b[0;34m(\u001b[0m\u001b[0;36m5\u001b[0m\u001b[0;34m,\u001b[0m\u001b[0;34m-\u001b[0m\u001b[0;36m1\u001b[0m\u001b[0;34m)\u001b[0m\u001b[0;34m)\u001b[0m\u001b[0;34m\u001b[0m\u001b[0;34m\u001b[0m\u001b[0m\n\u001b[0m",
            "\u001b[0;31mValueError\u001b[0m: cannot reshape array of size 12 into shape (5,newaxis)"
          ]
        }
      ]
    },
    {
      "cell_type": "markdown",
      "source": [
        "### Transpose"
      ],
      "metadata": {
        "id": "c57tufGeinNe"
      }
    },
    {
      "cell_type": "code",
      "source": [
        "print(arr)\n",
        "print(\"-\"*25)\n",
        "arr2D = arr.reshape(4,3)\n",
        "print(arr2D)\n",
        "print(arr2D.shape)\n",
        "print(\"-\"*25, \"TRANSPOSE\")\n",
        "print(arr2D.T)\n",
        "print(arr2D.T.shape)"
      ],
      "metadata": {
        "colab": {
          "base_uri": "https://localhost:8080/"
        },
        "id": "AaXRNWFqh8hO",
        "outputId": "5d98cfe7-ebd6-4316-cc12-21cffd693a66"
      },
      "execution_count": 13,
      "outputs": [
        {
          "output_type": "stream",
          "name": "stdout",
          "text": [
            "[ 0  1  2  3  4  5  6  7  8  9 10 11]\n",
            "-------------------------\n",
            "[[ 0  1  2]\n",
            " [ 3  4  5]\n",
            " [ 6  7  8]\n",
            " [ 9 10 11]]\n",
            "(4, 3)\n",
            "------------------------- TRANSPOSE\n",
            "[[ 0  3  6  9]\n",
            " [ 1  4  7 10]\n",
            " [ 2  5  8 11]]\n",
            "(3, 4)\n"
          ]
        }
      ]
    },
    {
      "cell_type": "markdown",
      "source": [
        "### Accessing of elements and slicing"
      ],
      "metadata": {
        "id": "AGCwYOsRiupW"
      }
    },
    {
      "cell_type": "code",
      "source": [
        "arr2D = np.arange(12).reshape(3,4)\n",
        "print(arr2D)\n",
        "print(\"Getting 1 row:\")\n",
        "print(arr2D[0])\n",
        "print(arr2D[1])\n",
        "print(arr2D[2])"
      ],
      "metadata": {
        "colab": {
          "base_uri": "https://localhost:8080/"
        },
        "id": "3Pch9eZrh-kO",
        "outputId": "fb0d70d9-6bc4-49e7-bb88-f322afaa421e"
      },
      "execution_count": 14,
      "outputs": [
        {
          "output_type": "stream",
          "name": "stdout",
          "text": [
            "[[ 0  1  2  3]\n",
            " [ 4  5  6  7]\n",
            " [ 8  9 10 11]]\n",
            "Getting 1 row:\n",
            "[0 1 2 3]\n",
            "[4 5 6 7]\n",
            "[ 8  9 10 11]\n"
          ]
        }
      ]
    },
    {
      "cell_type": "code",
      "source": [
        "arr2D = np.arange(12).reshape(3,4)\n",
        "print(arr2D)\n",
        "print(\"Getting 1 element(eg:7):\")\n",
        "print(arr2D[1])\n",
        "print(arr2D[1][3])# arr[row_ind][col_ind]\n",
        "print(arr2D[1,3])# arr[row_ind,col_ind]\n",
        ""
      ],
      "metadata": {
        "colab": {
          "base_uri": "https://localhost:8080/"
        },
        "id": "YK1g9P8Ch_-V",
        "outputId": "412d419b-b3e1-4e52-d9c5-518b3f857323"
      },
      "execution_count": 15,
      "outputs": [
        {
          "output_type": "stream",
          "name": "stdout",
          "text": [
            "[[ 0  1  2  3]\n",
            " [ 4  5  6  7]\n",
            " [ 8  9 10 11]]\n",
            "Getting 1 element(eg:7):\n",
            "[4 5 6 7]\n",
            "7\n",
            "7\n"
          ]
        }
      ]
    },
    {
      "cell_type": "code",
      "source": [
        "arr1D = np.arange(12)\n",
        "print(arr1D)\n",
        "print(\"Getting 1 element(eg:7):\")\n",
        "print(arr1D[7])\n",
        "print(\"Getting multiple lements:\")\n",
        "print(arr1D[[7,0,10,3,-1]])"
      ],
      "metadata": {
        "colab": {
          "base_uri": "https://localhost:8080/"
        },
        "id": "KTPU7VVFiDPu",
        "outputId": "7d4e0361-eec9-4047-8a70-004e42e9a524"
      },
      "execution_count": 16,
      "outputs": [
        {
          "output_type": "stream",
          "name": "stdout",
          "text": [
            "[ 0  1  2  3  4  5  6  7  8  9 10 11]\n",
            "Getting 1 element(eg:7):\n",
            "7\n",
            "Getting multiple lements:\n",
            "[ 7  0 10  3 11]\n"
          ]
        }
      ]
    },
    {
      "cell_type": "code",
      "source": [
        "arr2D = np.arange(12).reshape(3,4)\n",
        "print(arr2D)\n",
        "print(\"Getting 1 element(eg:7):\")\n",
        "print(arr2D[1,3])# arr[row_ind,col_ind]\n",
        "print(\"Getting multiple lements:\")\n",
        "print(arr2D[[1,2,0],[3,2,1]])# arr[[row_ind],[col_ind]]>>(1,3),(2,2),(0,1)"
      ],
      "metadata": {
        "colab": {
          "base_uri": "https://localhost:8080/"
        },
        "id": "oj3KQJmqiI5W",
        "outputId": "7c2d6dac-ae33-4e89-cbe6-08f431902cd8"
      },
      "execution_count": 17,
      "outputs": [
        {
          "output_type": "stream",
          "name": "stdout",
          "text": [
            "[[ 0  1  2  3]\n",
            " [ 4  5  6  7]\n",
            " [ 8  9 10 11]]\n",
            "Getting 1 element(eg:7):\n",
            "7\n",
            "Getting multiple lements:\n",
            "[ 7 10  1]\n"
          ]
        }
      ]
    },
    {
      "cell_type": "code",
      "source": [
        "arr1D = np.arange(12)\n",
        "print(arr1D)\n",
        "print(\"Getting 1 element(eg:7):\")\n",
        "print(arr1D[7])\n",
        "print(\"Getting multiple lements:\")\n",
        "print(arr1D[[7,0,10,3,-1]])\n",
        "print(\"Slicing\")\n",
        "print(arr1D[1:3])"
      ],
      "metadata": {
        "colab": {
          "base_uri": "https://localhost:8080/"
        },
        "id": "EOLVfvWciMLO",
        "outputId": "97e40a54-3b31-4611-f6e1-797b7520f6de"
      },
      "execution_count": 18,
      "outputs": [
        {
          "output_type": "stream",
          "name": "stdout",
          "text": [
            "[ 0  1  2  3  4  5  6  7  8  9 10 11]\n",
            "Getting 1 element(eg:7):\n",
            "7\n",
            "Getting multiple lements:\n",
            "[ 7  0 10  3 11]\n",
            "Slicing\n",
            "[1 2]\n"
          ]
        }
      ]
    },
    {
      "cell_type": "code",
      "source": [
        "arr2D = np.arange(12).reshape(3,4)\n",
        "print(arr2D)\n",
        "print(\"Getting 1 element(eg:7):\")\n",
        "print(arr2D[1,3])# arr[row_ind,col_ind]\n",
        "print(\"Getting multiple lements:\")\n",
        "print(arr2D[[1,2,0],[3,2,1]])# arr[[row_ind],[col_ind]]>>(1,3),(2,2),(0,1)\n",
        "print(\"Slicing\")\n",
        "print(arr2D[1:]) # no end is given\n",
        "print(\"-\"*25)\n",
        "print(arr2D[1:2]) # start=1, end=2"
      ],
      "metadata": {
        "colab": {
          "base_uri": "https://localhost:8080/"
        },
        "id": "0BL3C48siNxe",
        "outputId": "5dd93319-bf08-4a6d-a606-a00f483d4fd1"
      },
      "execution_count": 21,
      "outputs": [
        {
          "output_type": "stream",
          "name": "stdout",
          "text": [
            "[[ 0  1  2  3]\n",
            " [ 4  5  6  7]\n",
            " [ 8  9 10 11]]\n",
            "Getting 1 element(eg:7):\n",
            "7\n",
            "Getting multiple lements:\n",
            "[ 7 10  1]\n",
            "Slicing\n",
            "[[ 4  5  6  7]\n",
            " [ 8  9 10 11]]\n",
            "-------------------------\n",
            "[[4 5 6 7]]\n"
          ]
        }
      ]
    },
    {
      "cell_type": "code",
      "source": [
        "arr2D = np.arange(12).reshape(3,4)\n",
        "print(arr2D)\n",
        "print(\"Getting multiple lements:\")\n",
        "print(arr2D[[1,2,0],[3,2,1]])# arr[[row_ind],[col_ind]]>>(1,3),(2,2),(0,1)\n",
        "print(\"Slicing\")\n",
        "print(arr2D[1:]) # no end is given\n",
        "print(\"-\"*25)\n",
        "print(arr2D[1:2]) # start=1, end=2\n",
        "print(\"Slicing rows and cols\")\n",
        "print(arr2D[1:, 0::2]) # arr[row_slicing, col_slicing]\n",
        "print(\"get 1 col\")\n",
        "print(arr2D[:,2])"
      ],
      "metadata": {
        "colab": {
          "base_uri": "https://localhost:8080/"
        },
        "id": "EqAMBIR8iPbl",
        "outputId": "6fe4fe3f-3424-42c9-a6d7-3bf5808a2be6"
      },
      "execution_count": 23,
      "outputs": [
        {
          "output_type": "stream",
          "name": "stdout",
          "text": [
            "[[ 0  1  2  3]\n",
            " [ 4  5  6  7]\n",
            " [ 8  9 10 11]]\n",
            "Getting multiple lements:\n",
            "[ 7 10  1]\n",
            "Slicing\n",
            "[[ 4  5  6  7]\n",
            " [ 8  9 10 11]]\n",
            "-------------------------\n",
            "[[4 5 6 7]]\n",
            "Slicing rows and cols\n",
            "[[ 4  6]\n",
            " [ 8 10]]\n",
            "get 1 col\n",
            "[ 2  6 10]\n"
          ]
        }
      ]
    },
    {
      "cell_type": "code",
      "source": [
        "a = [1,2,3,4,5]\n",
        "b = [8,7,6]\n",
        "print(a)\n",
        "print(b)\n",
        "print(\"-\"*25)\n",
        "print(a[3:])\n",
        "print(b[::-2])\n",
        "print(\"-\"*25)\n",
        "a[3:] = b[::-2]\n",
        "print(a)"
      ],
      "metadata": {
        "colab": {
          "base_uri": "https://localhost:8080/"
        },
        "id": "8yxJaNhjiVfe",
        "outputId": "74fe72da-4dcb-4186-d9c8-9c24a45d7354"
      },
      "execution_count": 24,
      "outputs": [
        {
          "output_type": "stream",
          "name": "stdout",
          "text": [
            "[1, 2, 3, 4, 5]\n",
            "[8, 7, 6]\n",
            "-------------------------\n",
            "[4, 5]\n",
            "[6, 8]\n",
            "-------------------------\n",
            "[1, 2, 3, 6, 8]\n"
          ]
        }
      ]
    },
    {
      "cell_type": "markdown",
      "source": [
        "### Fancy indexing(Masking)"
      ],
      "metadata": {
        "id": "F97fMsWzi2Ke"
      }
    },
    {
      "cell_type": "code",
      "source": [
        "arr1D = np.arange(12)\n",
        "print(arr1D)\n",
        "print(\"Mask\")\n",
        "print(arr1D%3==0)\n",
        "print(\"Masking\")\n",
        "print(arr1D[arr1D%3==0])"
      ],
      "metadata": {
        "colab": {
          "base_uri": "https://localhost:8080/"
        },
        "id": "IFLbj2cuieTu",
        "outputId": "82ff57f3-2a61-4e8a-d104-80c90d6fee25"
      },
      "execution_count": 25,
      "outputs": [
        {
          "output_type": "stream",
          "name": "stdout",
          "text": [
            "[ 0  1  2  3  4  5  6  7  8  9 10 11]\n",
            "Mask\n",
            "[ True False False  True False False  True False False  True False False]\n",
            "Masking\n",
            "[0 3 6 9]\n"
          ]
        }
      ]
    },
    {
      "cell_type": "code",
      "source": [
        "arr2D = np.arange(12).reshape(3,4)\n",
        "print(arr2D)\n",
        "print(\"Mask\")\n",
        "print(arr2D%3==0)\n",
        "print(\"Masking\")\n",
        "print(arr2D[arr2D%3==0])"
      ],
      "metadata": {
        "colab": {
          "base_uri": "https://localhost:8080/"
        },
        "id": "ml1Pbms7igmm",
        "outputId": "2ec2c96e-9c44-4331-dfd1-5a4d7a668083"
      },
      "execution_count": 26,
      "outputs": [
        {
          "output_type": "stream",
          "name": "stdout",
          "text": [
            "[[ 0  1  2  3]\n",
            " [ 4  5  6  7]\n",
            " [ 8  9 10 11]]\n",
            "Mask\n",
            "[[ True False False  True]\n",
            " [False False  True False]\n",
            " [False  True False False]]\n",
            "Masking\n",
            "[0 3 6 9]\n"
          ]
        }
      ]
    },
    {
      "cell_type": "code",
      "source": [
        "a = np.array([0,1,2,3,4,5])\n",
        "print(a)\n",
        "mask = (a%2 == 0)\n",
        "print(mask)\n",
        "print(a[mask])\n",
        "a[mask] = -1\n",
        "print(a)"
      ],
      "metadata": {
        "colab": {
          "base_uri": "https://localhost:8080/"
        },
        "id": "qlytNBcSjAK2",
        "outputId": "1ddb57e3-a3a8-480a-e1b8-5f134e2489a5"
      },
      "execution_count": 27,
      "outputs": [
        {
          "output_type": "stream",
          "name": "stdout",
          "text": [
            "[0 1 2 3 4 5]\n",
            "[ True False  True False  True False]\n",
            "[0 2 4]\n",
            "[-1  1 -1  3 -1  5]\n"
          ]
        }
      ]
    },
    {
      "cell_type": "markdown",
      "source": [
        "### Aggregate Functions(1D)"
      ],
      "metadata": {
        "id": "-sfvutPjjGve"
      }
    },
    {
      "cell_type": "code",
      "source": [
        "a = np.arange(11)\n",
        "print(a)"
      ],
      "metadata": {
        "colab": {
          "base_uri": "https://localhost:8080/"
        },
        "id": "rt79kVG6jFVH",
        "outputId": "b54bc2f6-ffa6-4316-e97d-7299a4013e95"
      },
      "execution_count": 28,
      "outputs": [
        {
          "output_type": "stream",
          "name": "stdout",
          "text": [
            "[ 0  1  2  3  4  5  6  7  8  9 10]\n"
          ]
        }
      ]
    },
    {
      "cell_type": "code",
      "source": [
        "# sum\n",
        "print(np.sum(a))"
      ],
      "metadata": {
        "colab": {
          "base_uri": "https://localhost:8080/"
        },
        "id": "-DER82BdjL42",
        "outputId": "a9be03ee-1637-48bc-abdd-d4b9b9773975"
      },
      "execution_count": 30,
      "outputs": [
        {
          "output_type": "stream",
          "name": "stdout",
          "text": [
            "55\n"
          ]
        }
      ]
    },
    {
      "cell_type": "code",
      "source": [
        "# mean\n",
        "np.mean(a)"
      ],
      "metadata": {
        "colab": {
          "base_uri": "https://localhost:8080/"
        },
        "id": "ZYUl_9yfjNwO",
        "outputId": "c24cbcb5-24e3-4cb1-d0ed-af6ac3419e97"
      },
      "execution_count": 31,
      "outputs": [
        {
          "output_type": "execute_result",
          "data": {
            "text/plain": [
              "np.float64(5.0)"
            ]
          },
          "metadata": {},
          "execution_count": 31
        }
      ]
    },
    {
      "cell_type": "code",
      "source": [
        "# min\n",
        "np.min(a)"
      ],
      "metadata": {
        "colab": {
          "base_uri": "https://localhost:8080/"
        },
        "id": "1RusztgijSYe",
        "outputId": "dc4196cc-8d8b-4e4c-be85-19a1da070c6d"
      },
      "execution_count": 32,
      "outputs": [
        {
          "output_type": "execute_result",
          "data": {
            "text/plain": [
              "np.int64(0)"
            ]
          },
          "metadata": {},
          "execution_count": 32
        }
      ]
    },
    {
      "cell_type": "code",
      "source": [
        "# max\n",
        "np.max(a)"
      ],
      "metadata": {
        "colab": {
          "base_uri": "https://localhost:8080/"
        },
        "id": "QBUEm_2ajT2W",
        "outputId": "94071d7f-15a1-4143-e2b9-9ea4ff3c6273"
      },
      "execution_count": 33,
      "outputs": [
        {
          "output_type": "execute_result",
          "data": {
            "text/plain": [
              "np.int64(10)"
            ]
          },
          "metadata": {},
          "execution_count": 33
        }
      ]
    },
    {
      "cell_type": "code",
      "source": [
        "# median\n",
        "np.median(a)"
      ],
      "metadata": {
        "colab": {
          "base_uri": "https://localhost:8080/"
        },
        "id": "ldwGCYO5jV0d",
        "outputId": "b5af883f-9912-41db-8ccb-a9e3280fd63c"
      },
      "execution_count": 34,
      "outputs": [
        {
          "output_type": "execute_result",
          "data": {
            "text/plain": [
              "np.float64(5.0)"
            ]
          },
          "metadata": {},
          "execution_count": 34
        }
      ]
    },
    {
      "cell_type": "markdown",
      "source": [
        "Aggregate Functions (2D)"
      ],
      "metadata": {
        "id": "V_UlKe2jjd0O"
      }
    },
    {
      "cell_type": "code",
      "source": [
        "a2 = np.arange(12).reshape(4,3)\n",
        "print(a2)"
      ],
      "metadata": {
        "colab": {
          "base_uri": "https://localhost:8080/"
        },
        "id": "g-m0eY2tjXBe",
        "outputId": "429b53a9-823f-428d-fd53-e46221eb5f49"
      },
      "execution_count": 35,
      "outputs": [
        {
          "output_type": "stream",
          "name": "stdout",
          "text": [
            "[[ 0  1  2]\n",
            " [ 3  4  5]\n",
            " [ 6  7  8]\n",
            " [ 9 10 11]]\n"
          ]
        }
      ]
    },
    {
      "cell_type": "code",
      "source": [
        "# sum\n",
        "print(np.sum(a2)) #  axis=None[default]\n",
        "print(np.sum(a2, axis=0)) # go along the axis=0\n",
        "print(np.sum(a2, axis=1)) # go along the axis=1"
      ],
      "metadata": {
        "colab": {
          "base_uri": "https://localhost:8080/"
        },
        "id": "CiP5O6CNjZGO",
        "outputId": "701aa7f7-750e-4b66-a647-613ed05432b2"
      },
      "execution_count": 36,
      "outputs": [
        {
          "output_type": "stream",
          "name": "stdout",
          "text": [
            "66\n",
            "[18 22 26]\n",
            "[ 3 12 21 30]\n"
          ]
        }
      ]
    },
    {
      "cell_type": "code",
      "source": [
        "# mean\n",
        "print(np.mean(a2)) #  axis=None[default]\n",
        "print(np.mean(a2, axis=0)) # go along the axis=0\n",
        "print(np.mean(a2, axis=1)) # go along the axis=1"
      ],
      "metadata": {
        "colab": {
          "base_uri": "https://localhost:8080/"
        },
        "id": "ncfbpsilja-O",
        "outputId": "0f9ba6d4-ed61-4bf9-879a-ce53860beb69"
      },
      "execution_count": 37,
      "outputs": [
        {
          "output_type": "stream",
          "name": "stdout",
          "text": [
            "5.5\n",
            "[4.5 5.5 6.5]\n",
            "[ 1.  4.  7. 10.]\n"
          ]
        }
      ]
    },
    {
      "cell_type": "code",
      "source": [
        "print(np.sum(a2, axis=0)) # go along the axis=0\n",
        "print(np.sum(a2[:,0]))\n",
        "print(np.sum(a2[:,1]))\n",
        "print(np.sum(a2[:,2]))"
      ],
      "metadata": {
        "colab": {
          "base_uri": "https://localhost:8080/"
        },
        "id": "AGWKuiVhjjFm",
        "outputId": "5a192395-a301-41ea-bf09-82cac68cf8b9"
      },
      "execution_count": 38,
      "outputs": [
        {
          "output_type": "stream",
          "name": "stdout",
          "text": [
            "[18 22 26]\n",
            "18\n",
            "22\n",
            "26\n"
          ]
        }
      ]
    },
    {
      "cell_type": "markdown",
      "source": [
        "### Logical Operators"
      ],
      "metadata": {
        "id": "1uDSv-lYjy8-"
      }
    },
    {
      "cell_type": "code",
      "source": [
        "a = np.array([1,2,7,3,4,7,8,9,7,6,7,12])\n",
        "print(a.shape)\n",
        "print(a)"
      ],
      "metadata": {
        "colab": {
          "base_uri": "https://localhost:8080/"
        },
        "id": "reOLIEK5jx--",
        "outputId": "16174f8f-a9e8-47e6-f222-3aeb196bb342"
      },
      "execution_count": 39,
      "outputs": [
        {
          "output_type": "stream",
          "name": "stdout",
          "text": [
            "(12,)\n",
            "[ 1  2  7  3  4  7  8  9  7  6  7 12]\n"
          ]
        }
      ]
    },
    {
      "cell_type": "code",
      "source": [
        "print(a==7) # mask\n",
        "print(a[a==7]) # masking"
      ],
      "metadata": {
        "colab": {
          "base_uri": "https://localhost:8080/"
        },
        "id": "XUz5ryJRj3ye",
        "outputId": "e7003820-6b5d-481b-f9f6-c61a39296171"
      },
      "execution_count": 40,
      "outputs": [
        {
          "output_type": "stream",
          "name": "stdout",
          "text": [
            "[False False  True False False  True False False  True False  True False]\n",
            "[7 7 7 7]\n"
          ]
        }
      ]
    },
    {
      "cell_type": "code",
      "source": [
        "print(a%3==0)\n",
        "print(a%2==0)\n",
        "# masks\n",
        "print((a%3==0 )& (a%2==0)) # and\n",
        "print((a%3==0 )| (a%2==0)) # or"
      ],
      "metadata": {
        "colab": {
          "base_uri": "https://localhost:8080/"
        },
        "id": "qbR3P03Wj5NW",
        "outputId": "aa16302f-ea13-47fb-d7f1-565760cf8706"
      },
      "execution_count": 41,
      "outputs": [
        {
          "output_type": "stream",
          "name": "stdout",
          "text": [
            "[False False False  True False False False  True False  True False  True]\n",
            "[False  True False False  True False  True False False  True False  True]\n",
            "[False False False False False False False False False  True False  True]\n",
            "[False  True False  True  True False  True  True False  True False  True]\n"
          ]
        }
      ]
    },
    {
      "cell_type": "code",
      "source": [
        "print(a[(a%3==0 )& (a%2==0)])"
      ],
      "metadata": {
        "colab": {
          "base_uri": "https://localhost:8080/"
        },
        "id": "mAxBAe7Ij6lO",
        "outputId": "180ed5c3-6aab-45a5-f291-6f3760a858c0"
      },
      "execution_count": 42,
      "outputs": [
        {
          "output_type": "stream",
          "name": "stdout",
          "text": [
            "[ 6 12]\n"
          ]
        }
      ]
    },
    {
      "cell_type": "code",
      "source": [
        "print(a[(a%3==0 ) | (a%2==0)])"
      ],
      "metadata": {
        "colab": {
          "base_uri": "https://localhost:8080/"
        },
        "id": "G32DO5ctj8AO",
        "outputId": "d9b64216-8c6a-461d-e360-77beec819cd4"
      },
      "execution_count": 43,
      "outputs": [
        {
          "output_type": "stream",
          "name": "stdout",
          "text": [
            "[ 2  3  4  8  9  6 12]\n"
          ]
        }
      ]
    },
    {
      "cell_type": "code",
      "source": [
        "# any\n",
        "print(\"any: this will give you True if even one True is present\")\n",
        "print(np.any(a==7)) # is ANY value equal to 7\n",
        "print(np.any(a==0)) # is ANY value equal to 0\n",
        "\n",
        "# all\n",
        "print(\"all: this will give you False if even one False is present\")\n",
        "print(np.all(a==7)) # are ALL the values equal to 7\n",
        "print(np.all(a%1==0)) # are ALL the values divisible by 1"
      ],
      "metadata": {
        "colab": {
          "base_uri": "https://localhost:8080/"
        },
        "id": "mFwpgVy3j9g-",
        "outputId": "89f296ed-40d0-42c9-f73a-16b7a085e5c8"
      },
      "execution_count": 44,
      "outputs": [
        {
          "output_type": "stream",
          "name": "stdout",
          "text": [
            "any: this will give you True if even one True is present\n",
            "True\n",
            "False\n",
            "all: this will give you False if even one False is present\n",
            "False\n",
            "True\n"
          ]
        }
      ]
    },
    {
      "cell_type": "code",
      "source": [
        "# where>> taken input as Mask, gives indeces where mask is True\n",
        "print(np.where(a==7))"
      ],
      "metadata": {
        "colab": {
          "base_uri": "https://localhost:8080/"
        },
        "id": "VaBLw7SekC3m",
        "outputId": "bfa23eb5-9fb1-4ef3-9ca8-458f54d72bac"
      },
      "execution_count": 45,
      "outputs": [
        {
          "output_type": "stream",
          "name": "stdout",
          "text": [
            "(array([ 2,  5,  8, 10]),)\n"
          ]
        }
      ]
    },
    {
      "cell_type": "code",
      "source": [
        "a2D = a.reshape(4,3)\n",
        "print(a2D)"
      ],
      "metadata": {
        "colab": {
          "base_uri": "https://localhost:8080/"
        },
        "id": "ZOnguCutkKee",
        "outputId": "905f9257-91a2-4a34-ea23-247e23f4818e"
      },
      "execution_count": 55,
      "outputs": [
        {
          "output_type": "stream",
          "name": "stdout",
          "text": [
            "[[ 1  2  7]\n",
            " [ 3  4  7]\n",
            " [ 8  9  7]\n",
            " [ 6  7 12]]\n"
          ]
        }
      ]
    },
    {
      "cell_type": "code",
      "source": [
        "print(np.where(a2D==7))"
      ],
      "metadata": {
        "colab": {
          "base_uri": "https://localhost:8080/"
        },
        "id": "kt5Cg4SkkOSn",
        "outputId": "f12ca3a4-383c-42f5-9f4d-b27685cd03c3"
      },
      "execution_count": 56,
      "outputs": [
        {
          "output_type": "stream",
          "name": "stdout",
          "text": [
            "(array([0, 1, 2, 3]), array([2, 2, 2, 1]))\n"
          ]
        }
      ]
    },
    {
      "cell_type": "code",
      "source": [
        "a2D[np.where(a2D==7)]"
      ],
      "metadata": {
        "colab": {
          "base_uri": "https://localhost:8080/"
        },
        "id": "cgNN7gVIlPBP",
        "outputId": "fc466155-2290-4f72-b0f3-f4aba31c97eb"
      },
      "execution_count": 57,
      "outputs": [
        {
          "output_type": "execute_result",
          "data": {
            "text/plain": [
              "array([7, 7, 7, 7])"
            ]
          },
          "metadata": {},
          "execution_count": 57
        }
      ]
    },
    {
      "cell_type": "code",
      "source": [
        "a = np.array([0,2,3])\n",
        "b = np.array([1,3,5])\n",
        "print(a>=b) # element level analysis/comparison"
      ],
      "metadata": {
        "colab": {
          "base_uri": "https://localhost:8080/"
        },
        "id": "oupkBn9HlQvX",
        "outputId": "ee7f5ad2-2620-4a5e-d71a-7df0232d7457"
      },
      "execution_count": 58,
      "outputs": [
        {
          "output_type": "stream",
          "name": "stdout",
          "text": [
            "[False False False]\n"
          ]
        }
      ]
    },
    {
      "cell_type": "code",
      "source": [
        "arr = np.array([-3,4,27,34,-2, 0, -45,-11,4, 0])\n",
        "print(arr)\n",
        "print(np.where(arr))"
      ],
      "metadata": {
        "colab": {
          "base_uri": "https://localhost:8080/"
        },
        "id": "RhyJqvD3lStn",
        "outputId": "f95b76ec-dd47-4df9-a7df-4851ae736323"
      },
      "execution_count": 59,
      "outputs": [
        {
          "output_type": "stream",
          "name": "stdout",
          "text": [
            "[ -3   4  27  34  -2   0 -45 -11   4   0]\n",
            "(array([0, 1, 2, 3, 4, 6, 7, 8]),)\n"
          ]
        }
      ]
    },
    {
      "cell_type": "markdown",
      "source": [
        "### Using fit-bit dataset"
      ],
      "metadata": {
        "id": "MYSzfoLslc3u"
      }
    },
    {
      "cell_type": "code",
      "source": [
        "!gdown https://drive.google.com/uc?id=1vk1Pu0djiYcrdc85yUXZ_Rqq2oZNcohd"
      ],
      "metadata": {
        "colab": {
          "base_uri": "https://localhost:8080/"
        },
        "id": "EuvmdWdmlXXe",
        "outputId": "9c6116cf-a9ff-4e66-fae0-fe541f05a5ad"
      },
      "execution_count": 60,
      "outputs": [
        {
          "output_type": "stream",
          "name": "stdout",
          "text": [
            "Downloading...\n",
            "From: https://drive.google.com/uc?id=1vk1Pu0djiYcrdc85yUXZ_Rqq2oZNcohd\n",
            "To: /content/fit.txt\n",
            "\r  0% 0.00/3.43k [00:00<?, ?B/s]\r100% 3.43k/3.43k [00:00<00:00, 11.5MB/s]\n"
          ]
        }
      ]
    },
    {
      "cell_type": "code",
      "source": [
        "data = np.loadtxt(\"/content/fit.txt\", dtype=str)"
      ],
      "metadata": {
        "colab": {
          "base_uri": "https://localhost:8080/"
        },
        "id": "oiMILr7npCJu",
        "outputId": "82a4d84d-7295-4406-af7f-ab3c2ae77e75"
      },
      "execution_count": 62,
      "outputs": [
        {
          "output_type": "stream",
          "name": "stderr",
          "text": [
            "/tmp/ipython-input-916140340.py:1: UserWarning: Input line 1 contained no data and will not be counted towards `max_rows=50000`.  This differs from the behaviour in NumPy <=1.22 which counted lines rather than rows.  If desired, the previous behaviour can be achieved by using `itertools.islice`.\n",
            "Please see the 1.23 release notes for an example on how to do this.  If you wish to ignore this warning, use `warnings.filterwarnings`.  This warning is expected to be removed in the future and is given only once per `loadtxt` call.\n",
            "  data = np.loadtxt(\"/content/fit.txt\", dtype=str)\n"
          ]
        }
      ]
    },
    {
      "cell_type": "code",
      "source": [
        "data[:5]"
      ],
      "metadata": {
        "colab": {
          "base_uri": "https://localhost:8080/"
        },
        "id": "xUhuh3K4pEyn",
        "outputId": "ca8ab780-e709-4871-dd5d-34944d5ecb5c"
      },
      "execution_count": 63,
      "outputs": [
        {
          "output_type": "execute_result",
          "data": {
            "text/plain": [
              "array([['06-10-2017', '5464', 'Neutral', '181', '5', 'Inactive'],\n",
              "       ['07-10-2017', '6041', 'Sad', '197', '8', 'Inactive'],\n",
              "       ['08-10-2017', '25', 'Sad', '0', '5', 'Inactive'],\n",
              "       ['09-10-2017', '5461', 'Sad', '174', '4', 'Inactive'],\n",
              "       ['10-10-2017', '6915', 'Neutral', '223', '5', 'Active']],\n",
              "      dtype='<U10')"
            ]
          },
          "metadata": {},
          "execution_count": 63
        }
      ]
    },
    {
      "cell_type": "code",
      "source": [
        "data.shape"
      ],
      "metadata": {
        "colab": {
          "base_uri": "https://localhost:8080/"
        },
        "id": "WtiofCrwpT9P",
        "outputId": "bdbebda7-9ca3-481b-90da-e5f3aff44e52"
      },
      "execution_count": 64,
      "outputs": [
        {
          "output_type": "execute_result",
          "data": {
            "text/plain": [
              "(96, 6)"
            ]
          },
          "metadata": {},
          "execution_count": 64
        }
      ]
    },
    {
      "cell_type": "code",
      "source": [
        "date = data[:,0] # arr[row_index, col_inde]\n",
        "date"
      ],
      "metadata": {
        "colab": {
          "base_uri": "https://localhost:8080/"
        },
        "id": "p-rurm0PpWq4",
        "outputId": "3d930cc7-249c-4138-f376-5a534b9e579c"
      },
      "execution_count": 65,
      "outputs": [
        {
          "output_type": "execute_result",
          "data": {
            "text/plain": [
              "array(['06-10-2017', '07-10-2017', '08-10-2017', '09-10-2017',\n",
              "       '10-10-2017', '11-10-2017', '12-10-2017', '13-10-2017',\n",
              "       '14-10-2017', '15-10-2017', '16-10-2017', '17-10-2017',\n",
              "       '18-10-2017', '19-10-2017', '20-10-2017', '21-10-2017',\n",
              "       '22-10-2017', '23-10-2017', '24-10-2017', '25-10-2017',\n",
              "       '26-10-2017', '27-10-2017', '28-10-2017', '29-10-2017',\n",
              "       '30-10-2017', '31-10-2017', '01-11-2017', '02-11-2017',\n",
              "       '03-11-2017', '04-11-2017', '05-11-2017', '06-11-2017',\n",
              "       '07-11-2017', '08-11-2017', '09-11-2017', '10-11-2017',\n",
              "       '11-11-2017', '12-11-2017', '13-11-2017', '14-11-2017',\n",
              "       '15-11-2017', '16-11-2017', '17-11-2017', '18-11-2017',\n",
              "       '19-11-2017', '20-11-2017', '21-11-2017', '22-11-2017',\n",
              "       '23-11-2017', '24-11-2017', '25-11-2017', '26-11-2017',\n",
              "       '27-11-2017', '28-11-2017', '29-11-2017', '30-11-2017',\n",
              "       '01-12-2017', '02-12-2017', '03-12-2017', '04-12-2017',\n",
              "       '05-12-2017', '06-12-2017', '07-12-2017', '08-12-2017',\n",
              "       '09-12-2017', '10-12-2017', '11-12-2017', '12-12-2017',\n",
              "       '13-12-2017', '14-12-2017', '15-12-2017', '16-12-2017',\n",
              "       '17-12-2017', '18-12-2017', '19-12-2017', '20-12-2017',\n",
              "       '21-12-2017', '22-12-2017', '23-12-2017', '24-12-2017',\n",
              "       '25-12-2017', '26-12-2017', '27-12-2017', '28-12-2017',\n",
              "       '29-12-2017', '30-12-2017', '31-12-2017', '01-01-2018',\n",
              "       '02-01-2018', '03-01-2018', '04-01-2018', '05-01-2018',\n",
              "       '06-01-2018', '07-01-2018', '08-01-2018', '09-01-2018'],\n",
              "      dtype='<U10')"
            ]
          },
          "metadata": {},
          "execution_count": 65
        }
      ]
    },
    {
      "cell_type": "code",
      "source": [
        "steps = data[:,1].astype(int) # arr[row_index, col_inde]\n",
        "steps"
      ],
      "metadata": {
        "colab": {
          "base_uri": "https://localhost:8080/"
        },
        "id": "KpNMJAHlpYUQ",
        "outputId": "368a9f5e-4283-468c-c81d-42e66a45911f"
      },
      "execution_count": 66,
      "outputs": [
        {
          "output_type": "execute_result",
          "data": {
            "text/plain": [
              "array([5464, 6041,   25, 5461, 6915, 4545, 4340, 1230,   61, 1258, 3148,\n",
              "       4687, 4732, 3519, 1580, 2822,  181, 3158, 4383, 3881, 4037,  202,\n",
              "        292,  330, 2209, 4550, 4435, 4779, 1831, 2255,  539, 5464, 6041,\n",
              "       4068, 4683, 4033, 6314,  614, 3149, 4005, 4880, 4136,  705,  570,\n",
              "        269, 4275, 5999, 4421, 6930, 5195,  546,  493,  995, 1163, 6676,\n",
              "       3608,  774, 1421, 4064, 2725, 5934, 1867, 3721, 2374, 2909, 1648,\n",
              "        799, 7102, 3941, 7422,  437, 1231, 1696, 4921,  221, 6500, 3575,\n",
              "       4061,  651,  753,  518, 5537, 4108, 5376, 3066,  177,   36,  299,\n",
              "       1447, 2599,  702,  133,  153,  500, 2127, 2203])"
            ]
          },
          "metadata": {},
          "execution_count": 66
        }
      ]
    },
    {
      "cell_type": "code",
      "source": [
        "mood = data[:,2] # arr[row_index, col_inde]\n",
        "mood"
      ],
      "metadata": {
        "colab": {
          "base_uri": "https://localhost:8080/"
        },
        "id": "tylZXZGbpaAf",
        "outputId": "fdc0c640-7edd-4252-acfb-49ffa8350a42"
      },
      "execution_count": 67,
      "outputs": [
        {
          "output_type": "execute_result",
          "data": {
            "text/plain": [
              "array(['Neutral', 'Sad', 'Sad', 'Sad', 'Neutral', 'Sad', 'Sad', 'Sad',\n",
              "       'Sad', 'Sad', 'Sad', 'Sad', 'Happy', 'Sad', 'Sad', 'Sad', 'Sad',\n",
              "       'Neutral', 'Neutral', 'Neutral', 'Neutral', 'Neutral', 'Neutral',\n",
              "       'Happy', 'Neutral', 'Happy', 'Happy', 'Happy', 'Happy', 'Happy',\n",
              "       'Happy', 'Happy', 'Neutral', 'Happy', 'Happy', 'Happy', 'Happy',\n",
              "       'Happy', 'Happy', 'Happy', 'Happy', 'Happy', 'Happy', 'Neutral',\n",
              "       'Happy', 'Happy', 'Happy', 'Happy', 'Happy', 'Happy', 'Happy',\n",
              "       'Happy', 'Happy', 'Neutral', 'Sad', 'Happy', 'Happy', 'Happy',\n",
              "       'Happy', 'Happy', 'Happy', 'Happy', 'Sad', 'Neutral', 'Neutral',\n",
              "       'Sad', 'Sad', 'Neutral', 'Neutral', 'Happy', 'Neutral', 'Neutral',\n",
              "       'Sad', 'Neutral', 'Sad', 'Neutral', 'Neutral', 'Sad', 'Sad', 'Sad',\n",
              "       'Sad', 'Happy', 'Neutral', 'Happy', 'Neutral', 'Sad', 'Sad', 'Sad',\n",
              "       'Neutral', 'Neutral', 'Sad', 'Sad', 'Happy', 'Neutral', 'Neutral',\n",
              "       'Happy'], dtype='<U10')"
            ]
          },
          "metadata": {},
          "execution_count": 67
        }
      ]
    },
    {
      "cell_type": "code",
      "source": [
        "calories = data[:,3].astype(int) # arr[row_index, col_inde]\n",
        "calories"
      ],
      "metadata": {
        "colab": {
          "base_uri": "https://localhost:8080/"
        },
        "id": "ZTmuU0WIpbWn",
        "outputId": "6a690cf4-870d-4e90-8b54-33896dbac804"
      },
      "execution_count": 68,
      "outputs": [
        {
          "output_type": "execute_result",
          "data": {
            "text/plain": [
              "array([181, 197,   0, 174, 223, 149, 140,  38,   1,  40, 101, 152, 150,\n",
              "       113,  49,  86,   6,  99, 143, 125, 129,   6,   9,  10,  72, 150,\n",
              "       141, 156,  57,  72,  17, 181, 197, 131, 154, 137, 193,  19, 101,\n",
              "       139, 164, 137,  22,  17,   9, 145, 192, 146, 234, 167,  16,  17,\n",
              "        32,  35, 220, 116,  23,  44, 131,  86, 194,  60, 121,  76,  93,\n",
              "        53,  25, 227, 125, 243,  14,  39,  55, 158,   7, 213, 116, 129,\n",
              "        21,  28,  16, 180, 138, 176,  99,   5,   1,  10,  47,  84,  23,\n",
              "         4,   0,   0,   0,   0])"
            ]
          },
          "metadata": {},
          "execution_count": 68
        }
      ]
    },
    {
      "cell_type": "code",
      "source": [
        "sleep = data[:,4].astype(int) # arr[row_index, col_inde]\n",
        "sleep"
      ],
      "metadata": {
        "colab": {
          "base_uri": "https://localhost:8080/"
        },
        "id": "ytgxc9s0pdL_",
        "outputId": "0835a952-e6ee-4233-ab70-d1c63a0000b4"
      },
      "execution_count": 69,
      "outputs": [
        {
          "output_type": "execute_result",
          "data": {
            "text/plain": [
              "array([5, 8, 5, 4, 5, 6, 6, 7, 5, 6, 8, 5, 6, 7, 5, 6, 8, 5, 4, 5, 6, 8,\n",
              "       5, 6, 5, 8, 5, 4, 5, 4, 5, 4, 3, 2, 9, 5, 6, 4, 5, 8, 4, 5, 6, 5,\n",
              "       6, 5, 6, 5, 6, 5, 6, 7, 6, 7, 6, 5, 6, 7, 8, 8, 7, 8, 5, 4, 3, 3,\n",
              "       4, 5, 5, 5, 3, 4, 4, 5, 5, 5, 5, 5, 5, 4, 3, 4, 5, 5, 4, 5, 3, 3,\n",
              "       3, 2, 3, 2, 8, 5, 5, 5])"
            ]
          },
          "metadata": {},
          "execution_count": 69
        }
      ]
    },
    {
      "cell_type": "code",
      "source": [
        "active = data[:,5] # arr[row_index, col_inde]\n",
        "active"
      ],
      "metadata": {
        "colab": {
          "base_uri": "https://localhost:8080/"
        },
        "id": "CpNg5-BLpeiP",
        "outputId": "5cb9a7d0-3747-4309-9be4-96201dd43de3"
      },
      "execution_count": 70,
      "outputs": [
        {
          "output_type": "execute_result",
          "data": {
            "text/plain": [
              "array(['Inactive', 'Inactive', 'Inactive', 'Inactive', 'Active',\n",
              "       'Inactive', 'Inactive', 'Inactive', 'Inactive', 'Inactive',\n",
              "       'Inactive', 'Inactive', 'Active', 'Inactive', 'Inactive',\n",
              "       'Inactive', 'Inactive', 'Inactive', 'Inactive', 'Inactive',\n",
              "       'Inactive', 'Inactive', 'Inactive', 'Inactive', 'Inactive',\n",
              "       'Active', 'Inactive', 'Inactive', 'Inactive', 'Inactive', 'Active',\n",
              "       'Inactive', 'Inactive', 'Inactive', 'Inactive', 'Inactive',\n",
              "       'Active', 'Active', 'Active', 'Active', 'Active', 'Active',\n",
              "       'Active', 'Active', 'Active', 'Inactive', 'Inactive', 'Inactive',\n",
              "       'Inactive', 'Inactive', 'Inactive', 'Active', 'Active', 'Active',\n",
              "       'Active', 'Active', 'Active', 'Active', 'Active', 'Active',\n",
              "       'Active', 'Active', 'Active', 'Inactive', 'Active', 'Active',\n",
              "       'Inactive', 'Active', 'Active', 'Active', 'Active', 'Active',\n",
              "       'Inactive', 'Active', 'Active', 'Active', 'Active', 'Inactive',\n",
              "       'Inactive', 'Inactive', 'Inactive', 'Active', 'Active', 'Active',\n",
              "       'Active', 'Inactive', 'Inactive', 'Inactive', 'Inactive',\n",
              "       'Inactive', 'Inactive', 'Inactive', 'Inactive', 'Active',\n",
              "       'Inactive', 'Active'], dtype='<U10')"
            ]
          },
          "metadata": {},
          "execution_count": 70
        }
      ]
    },
    {
      "cell_type": "code",
      "source": [
        "happy_mask = mood==\"Happy\"\n",
        "happy_mask"
      ],
      "metadata": {
        "colab": {
          "base_uri": "https://localhost:8080/"
        },
        "id": "WK2rTgEnpf8P",
        "outputId": "f727f137-90c9-4f07-8355-144d234da430"
      },
      "execution_count": 71,
      "outputs": [
        {
          "output_type": "execute_result",
          "data": {
            "text/plain": [
              "array([False, False, False, False, False, False, False, False, False,\n",
              "       False, False, False,  True, False, False, False, False, False,\n",
              "       False, False, False, False, False,  True, False,  True,  True,\n",
              "        True,  True,  True,  True,  True, False,  True,  True,  True,\n",
              "        True,  True,  True,  True,  True,  True,  True, False,  True,\n",
              "        True,  True,  True,  True,  True,  True,  True,  True, False,\n",
              "       False,  True,  True,  True,  True,  True,  True,  True, False,\n",
              "       False, False, False, False, False, False,  True, False, False,\n",
              "       False, False, False, False, False, False, False, False, False,\n",
              "        True, False,  True, False, False, False, False, False, False,\n",
              "       False, False,  True, False, False,  True])"
            ]
          },
          "metadata": {},
          "execution_count": 71
        }
      ]
    },
    {
      "cell_type": "code",
      "source": [
        "sad_mask = mood==\"Sad\"\n",
        "sad_mask"
      ],
      "metadata": {
        "colab": {
          "base_uri": "https://localhost:8080/"
        },
        "id": "jWTJCeAgpiY_",
        "outputId": "70d8a1d8-b652-4884-ce8a-a673b1dbadb4"
      },
      "execution_count": 72,
      "outputs": [
        {
          "output_type": "execute_result",
          "data": {
            "text/plain": [
              "array([False,  True,  True,  True, False,  True,  True,  True,  True,\n",
              "        True,  True,  True, False,  True,  True,  True,  True, False,\n",
              "       False, False, False, False, False, False, False, False, False,\n",
              "       False, False, False, False, False, False, False, False, False,\n",
              "       False, False, False, False, False, False, False, False, False,\n",
              "       False, False, False, False, False, False, False, False, False,\n",
              "        True, False, False, False, False, False, False, False,  True,\n",
              "       False, False,  True,  True, False, False, False, False, False,\n",
              "        True, False,  True, False, False,  True,  True,  True,  True,\n",
              "       False, False, False, False,  True,  True,  True, False, False,\n",
              "        True,  True, False, False, False, False])"
            ]
          },
          "metadata": {},
          "execution_count": 72
        }
      ]
    },
    {
      "cell_type": "code",
      "source": [
        "steps[happy_mask] # steps of days when I was happy"
      ],
      "metadata": {
        "colab": {
          "base_uri": "https://localhost:8080/"
        },
        "id": "wTEiVVugpjyn",
        "outputId": "9c1a0441-05ad-4239-e2a0-a960bda35758"
      },
      "execution_count": 73,
      "outputs": [
        {
          "output_type": "execute_result",
          "data": {
            "text/plain": [
              "array([4732,  330, 4550, 4435, 4779, 1831, 2255,  539, 5464, 4068, 4683,\n",
              "       4033, 6314,  614, 3149, 4005, 4880, 4136,  705,  269, 4275, 5999,\n",
              "       4421, 6930, 5195,  546,  493,  995, 3608,  774, 1421, 4064, 2725,\n",
              "       5934, 1867, 7422, 5537, 5376,  153, 2203])"
            ]
          },
          "metadata": {},
          "execution_count": 73
        }
      ]
    },
    {
      "cell_type": "code",
      "source": [
        "steps[happy_mask].mean()"
      ],
      "metadata": {
        "colab": {
          "base_uri": "https://localhost:8080/"
        },
        "id": "mjHtIXWspmNQ",
        "outputId": "0e8992f5-e929-4b42-ac1b-aebea633b80e"
      },
      "execution_count": 74,
      "outputs": [
        {
          "output_type": "execute_result",
          "data": {
            "text/plain": [
              "np.float64(3392.725)"
            ]
          },
          "metadata": {},
          "execution_count": 74
        }
      ]
    },
    {
      "cell_type": "code",
      "source": [
        "steps[sad_mask].mean()"
      ],
      "metadata": {
        "colab": {
          "base_uri": "https://localhost:8080/"
        },
        "id": "VeibFd38pnn_",
        "outputId": "17ee30de-0ed6-490f-9149-bf4bbb997218"
      },
      "execution_count": 75,
      "outputs": [
        {
          "output_type": "execute_result",
          "data": {
            "text/plain": [
              "np.float64(2103.0689655172414)"
            ]
          },
          "metadata": {},
          "execution_count": 75
        }
      ]
    },
    {
      "cell_type": "code",
      "source": [
        "# when I steps>=4000, I am mostly happy\n",
        "steps4k_mask = steps>=4000\n",
        "steps4k_mask"
      ],
      "metadata": {
        "colab": {
          "base_uri": "https://localhost:8080/"
        },
        "id": "TIsM3_RHppN3",
        "outputId": "620f250f-7ff0-4eb0-facc-2fa63f83f2e7"
      },
      "execution_count": 76,
      "outputs": [
        {
          "output_type": "execute_result",
          "data": {
            "text/plain": [
              "array([ True,  True, False,  True,  True,  True,  True, False, False,\n",
              "       False, False,  True,  True, False, False, False, False, False,\n",
              "        True, False,  True, False, False, False, False,  True,  True,\n",
              "        True, False, False, False,  True,  True,  True,  True,  True,\n",
              "        True, False, False,  True,  True,  True, False, False, False,\n",
              "        True,  True,  True,  True,  True, False, False, False, False,\n",
              "        True, False, False, False,  True, False,  True, False, False,\n",
              "       False, False, False, False,  True, False,  True, False, False,\n",
              "       False,  True, False,  True, False,  True, False, False, False,\n",
              "        True,  True,  True, False, False, False, False, False, False,\n",
              "       False, False, False, False, False, False])"
            ]
          },
          "metadata": {},
          "execution_count": 76
        }
      ]
    },
    {
      "cell_type": "code",
      "source": [
        "mood[steps4k_mask] # mood wherever steps were >=4000"
      ],
      "metadata": {
        "colab": {
          "base_uri": "https://localhost:8080/"
        },
        "id": "xPsI_ay8pq0I",
        "outputId": "9e52890e-5742-467d-e446-66555d63e398"
      },
      "execution_count": 77,
      "outputs": [
        {
          "output_type": "execute_result",
          "data": {
            "text/plain": [
              "array(['Neutral', 'Sad', 'Sad', 'Neutral', 'Sad', 'Sad', 'Sad', 'Happy',\n",
              "       'Neutral', 'Neutral', 'Happy', 'Happy', 'Happy', 'Happy',\n",
              "       'Neutral', 'Happy', 'Happy', 'Happy', 'Happy', 'Happy', 'Happy',\n",
              "       'Happy', 'Happy', 'Happy', 'Happy', 'Happy', 'Happy', 'Sad',\n",
              "       'Happy', 'Happy', 'Neutral', 'Happy', 'Neutral', 'Neutral', 'Sad',\n",
              "       'Happy', 'Neutral', 'Happy'], dtype='<U10')"
            ]
          },
          "metadata": {},
          "execution_count": 77
        }
      ]
    },
    {
      "cell_type": "code",
      "source": [
        "np.unique(mood[steps4k_mask])"
      ],
      "metadata": {
        "colab": {
          "base_uri": "https://localhost:8080/"
        },
        "id": "MkeOnr4spsNX",
        "outputId": "544418a6-c51b-4114-9a24-65eeca49efba"
      },
      "execution_count": 78,
      "outputs": [
        {
          "output_type": "execute_result",
          "data": {
            "text/plain": [
              "array(['Happy', 'Neutral', 'Sad'], dtype='<U10')"
            ]
          },
          "metadata": {},
          "execution_count": 78
        }
      ]
    },
    {
      "cell_type": "code",
      "source": [
        "np.unique(mood[steps4k_mask], return_counts=True)"
      ],
      "metadata": {
        "colab": {
          "base_uri": "https://localhost:8080/"
        },
        "id": "fxN6f6RXpuEI",
        "outputId": "99b715a4-933f-4781-d498-d592433928a1"
      },
      "execution_count": 79,
      "outputs": [
        {
          "output_type": "execute_result",
          "data": {
            "text/plain": [
              "(array(['Happy', 'Neutral', 'Sad'], dtype='<U10'), array([22,  9,  7]))"
            ]
          },
          "metadata": {},
          "execution_count": 79
        }
      ]
    },
    {
      "cell_type": "code",
      "source": [],
      "metadata": {
        "id": "_3KI82SEpvq-"
      },
      "execution_count": null,
      "outputs": []
    }
  ]
}